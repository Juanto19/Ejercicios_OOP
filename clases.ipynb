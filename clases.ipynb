{
 "cells": [
  {
   "cell_type": "markdown",
   "metadata": {},
   "source": [
    "# INTRODUCTION PYTHON CLASS"
   ]
  },
  {
   "cell_type": "markdown",
   "metadata": {},
   "source": [
    "### ¿Qué es una clase?\n",
    "\n",
    "Una clase es un un plano o una plantilla para crear objetos. En Python, las clases son creadas mediante la palabra clave `class`.\n",
    "\n",
    "### ¿Qué características tiene una clase?\n",
    "\n",
    "- **Atributos**: Son variables que pertenecen a la clase.\n",
    "- **Métodos**: Son funciones que pertenecen a la clase."
   ]
  },
  {
   "cell_type": "markdown",
   "metadata": {},
   "source": [
    "C:\\Users\\Usuario\\Documents\\GitHub\\Ejercicios_Python\\clases.ipynb"
   ]
  }
 ],
 "metadata": {
  "kernelspec": {
   "display_name": "Python 3",
   "language": "python",
   "name": "python3"
  },
  "language_info": {
   "codemirror_mode": {
    "name": "ipython",
    "version": 3
   },
   "file_extension": ".py",
   "mimetype": "text/x-python",
   "name": "python",
   "nbconvert_exporter": "python",
   "pygments_lexer": "ipython3",
   "version": "3.10.11"
  }
 },
 "nbformat": 4,
 "nbformat_minor": 2
}
